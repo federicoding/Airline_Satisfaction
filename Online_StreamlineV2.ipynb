{
  "nbformat": 4,
  "nbformat_minor": 0,
  "metadata": {
    "colab": {
      "name": "Online_StreamlineV2.ipynb",
      "provenance": [],
      "collapsed_sections": [],
      "authorship_tag": "ABX9TyOe/nleJw1ySd+7n/4TDc3C",
      "include_colab_link": true
    },
    "kernelspec": {
      "name": "python3",
      "display_name": "Python 3"
    },
    "language_info": {
      "name": "python"
    }
  },
  "cells": [
    {
      "cell_type": "markdown",
      "metadata": {
        "id": "view-in-github",
        "colab_type": "text"
      },
      "source": [
        "<a href=\"https://colab.research.google.com/github/federicoding/Airline_Satisfaction/blob/main/Online_StreamlineV2.ipynb\" target=\"_parent\"><img src=\"https://colab.research.google.com/assets/colab-badge.svg\" alt=\"Open In Colab\"/></a>"
      ]
    },
    {
      "cell_type": "markdown",
      "metadata": {
        "id": "-iQjJg7PIbiK"
      },
      "source": [
        "Fast and furious from\n",
        "https://colab.research.google.com/github/mrm8488/shared_colab_notebooks/blob/master/Create_streamlit_app.ipynb#scrollTo=IFvZnzS4vr88\n",
        "\n",
        "and\n",
        "\n",
        "https://medium.com/@jcharistech/how-to-run-streamlit-apps-from-colab-29b969a1bdfc"
      ]
    },
    {
      "cell_type": "markdown",
      "metadata": {
        "id": "qNvLk3GyIZgn"
      },
      "source": [
        "And https://www.analyticsvidhya.com/blog/2020/12/deploying-machine-learning-models-using-streamlit-an-introductory-guide-to-model-deployment/ also."
      ]
    },
    {
      "cell_type": "markdown",
      "metadata": {
        "id": "vnUloRDMZIuF"
      },
      "source": [
        "Bon, pour cette V2 on va élargir et changer qques trucs.\n",
        "On va importer les données directement via cette interface-ci (et pas dans l'app.py)"
      ]
    },
    {
      "cell_type": "code",
      "metadata": {
        "colab": {
          "base_uri": "https://localhost:8080/"
        },
        "id": "XoSAL0lOHoA2",
        "outputId": "5ad98795-c127-4736-cde2-61f43481e903"
      },
      "source": [
        "!pip install -q streamlit"
      ],
      "execution_count": 1,
      "outputs": [
        {
          "output_type": "stream",
          "text": [
            "\u001b[K     |████████████████████████████████| 8.2MB 12.1MB/s \n",
            "\u001b[K     |████████████████████████████████| 163kB 48.2MB/s \n",
            "\u001b[K     |████████████████████████████████| 112kB 45.6MB/s \n",
            "\u001b[K     |████████████████████████████████| 81kB 7.4MB/s \n",
            "\u001b[K     |████████████████████████████████| 4.2MB 43.7MB/s \n",
            "\u001b[K     |████████████████████████████████| 71kB 7.4MB/s \n",
            "\u001b[K     |████████████████████████████████| 122kB 43.6MB/s \n",
            "\u001b[?25h  Building wheel for blinker (setup.py) ... \u001b[?25l\u001b[?25hdone\n",
            "\u001b[31mERROR: google-colab 1.0.0 has requirement ipykernel~=4.10, but you'll have ipykernel 5.5.3 which is incompatible.\u001b[0m\n"
          ],
          "name": "stdout"
        }
      ]
    },
    {
      "cell_type": "code",
      "metadata": {
        "colab": {
          "base_uri": "https://localhost:8080/"
        },
        "id": "kDStWJqdHqaO",
        "outputId": "214964a8-96ac-49ba-c6e8-5b90dd90794e"
      },
      "source": [
        "!wget https://raw.githubusercontent.com/federicoding/Airline_Satisfaction/main/appV4.py"
      ],
      "execution_count": 1,
      "outputs": [
        {
          "output_type": "stream",
          "text": [
            "--2021-05-03 14:07:55--  https://raw.githubusercontent.com/federicoding/Airline_Satisfaction/main/appV4.py\n",
            "Resolving raw.githubusercontent.com (raw.githubusercontent.com)... 185.199.109.133, 185.199.108.133, 185.199.110.133, ...\n",
            "Connecting to raw.githubusercontent.com (raw.githubusercontent.com)|185.199.109.133|:443... connected.\n",
            "HTTP request sent, awaiting response... 200 OK\n",
            "Length: 5555 (5.4K) [text/plain]\n",
            "Saving to: ‘appV4.py’\n",
            "\n",
            "\rappV4.py              0%[                    ]       0  --.-KB/s               \rappV4.py            100%[===================>]   5.42K  --.-KB/s    in 0s      \n",
            "\n",
            "2021-05-03 14:07:55 (63.2 MB/s) - ‘appV4.py’ saved [5555/5555]\n",
            "\n"
          ],
          "name": "stdout"
        }
      ]
    },
    {
      "cell_type": "code",
      "metadata": {
        "colab": {
          "base_uri": "https://localhost:8080/"
        },
        "id": "lXHu4Cw5H57o",
        "outputId": "053f1e87-8bcd-40f2-fb91-64ae0887d3e7"
      },
      "source": [
        "!wget https://bin.equinox.io/c/4VmDzA7iaHb/ngrok-stable-linux-amd64.zip"
      ],
      "execution_count": 2,
      "outputs": [
        {
          "output_type": "stream",
          "text": [
            "--2021-05-03 14:07:56--  https://bin.equinox.io/c/4VmDzA7iaHb/ngrok-stable-linux-amd64.zip\n",
            "Resolving bin.equinox.io (bin.equinox.io)... 52.202.162.45, 3.223.239.191, 3.216.229.131, ...\n",
            "Connecting to bin.equinox.io (bin.equinox.io)|52.202.162.45|:443... connected.\n",
            "HTTP request sent, awaiting response... 200 OK\n",
            "Length: 13828408 (13M) [application/octet-stream]\n",
            "Saving to: ‘ngrok-stable-linux-amd64.zip’\n",
            "\n",
            "ngrok-stable-linux- 100%[===================>]  13.19M  14.1MB/s    in 0.9s    \n",
            "\n",
            "2021-05-03 14:07:57 (14.1 MB/s) - ‘ngrok-stable-linux-amd64.zip’ saved [13828408/13828408]\n",
            "\n"
          ],
          "name": "stdout"
        }
      ]
    },
    {
      "cell_type": "code",
      "metadata": {
        "colab": {
          "base_uri": "https://localhost:8080/"
        },
        "id": "DwI1pM1zIMBD",
        "outputId": "20169fc4-783e-4b1e-e110-c978861959dd"
      },
      "source": [
        "!unzip ngrok-stable-linux-amd64.zip"
      ],
      "execution_count": 3,
      "outputs": [
        {
          "output_type": "stream",
          "text": [
            "Archive:  ngrok-stable-linux-amd64.zip\n",
            "  inflating: ngrok                   \n"
          ],
          "name": "stdout"
        }
      ]
    },
    {
      "cell_type": "code",
      "metadata": {
        "id": "5zIni7j2IN5H"
      },
      "source": [
        "get_ipython().system_raw('./ngrok http 8501 &')"
      ],
      "execution_count": 4,
      "outputs": []
    },
    {
      "cell_type": "code",
      "metadata": {
        "colab": {
          "base_uri": "https://localhost:8080/"
        },
        "id": "DQXAamtpISRT",
        "outputId": "9c89e2a0-9169-4646-d4f1-a2d9be6cc7ef"
      },
      "source": [
        "!curl -s http://localhost:4040/api/tunnels | python3 -c \\\n",
        "    'import sys, json; print(\"Execute the next cell and the go to the following URL: \" +json.load(sys.stdin)[\"tunnels\"][0][\"public_url\"])'"
      ],
      "execution_count": 6,
      "outputs": [
        {
          "output_type": "stream",
          "text": [
            "Execute the next cell and the go to the following URL: https://c7cdd0784aeb.ngrok.io\n"
          ],
          "name": "stdout"
        }
      ]
    },
    {
      "cell_type": "code",
      "metadata": {
        "colab": {
          "base_uri": "https://localhost:8080/"
        },
        "id": "9EP9102fIUI0",
        "outputId": "1c7aa817-0a00-4d3d-fcab-a255fa643bd6"
      },
      "source": [
        "!streamlit run /content/appV4.py"
      ],
      "execution_count": 7,
      "outputs": [
        {
          "output_type": "stream",
          "text": [
            "\u001b[0m\n",
            "\u001b[34m\u001b[1m  You can now view your Streamlit app in your browser.\u001b[0m\n",
            "\u001b[0m\n",
            "\u001b[34m  Network URL: \u001b[0m\u001b[1mhttp://172.28.0.2:8501\u001b[0m\n",
            "\u001b[34m  External URL: \u001b[0m\u001b[1mhttp://35.204.191.242:8501\u001b[0m\n",
            "\u001b[0m\n",
            "2021-05-03 14:08:26.187 NumExpr defaulting to 2 threads.\n",
            "\u001b[34m  Stopping...\u001b[0m\n"
          ],
          "name": "stdout"
        }
      ]
    }
  ]
}