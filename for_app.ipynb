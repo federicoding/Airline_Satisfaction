{
  "nbformat": 4,
  "nbformat_minor": 0,
  "metadata": {
    "colab": {
      "name": "for_app.ipynb",
      "provenance": [],
      "collapsed_sections": [],
      "authorship_tag": "ABX9TyPB4d4b1wZ5qz6w4PgGiHmz",
      "include_colab_link": true
    },
    "kernelspec": {
      "name": "python3",
      "display_name": "Python 3"
    },
    "language_info": {
      "name": "python"
    }
  },
  "cells": [
    {
      "cell_type": "markdown",
      "metadata": {
        "id": "view-in-github",
        "colab_type": "text"
      },
      "source": [
        "<a href=\"https://colab.research.google.com/github/federicoding/Airline_Satisfaction/blob/main/for_app.ipynb\" target=\"_parent\"><img src=\"https://colab.research.google.com/assets/colab-badge.svg\" alt=\"Open In Colab\"/></a>"
      ]
    },
    {
      "cell_type": "code",
      "metadata": {
        "colab": {
          "base_uri": "https://localhost:8080/"
        },
        "id": "B55ejyMS_tQb",
        "outputId": "c6e2f171-b1d9-4a18-f519-bf525c01b695"
      },
      "source": [
        "%%writefile app.py\n",
        "\n",
        "import pickle\n",
        "import streamlit as st\n",
        "\n",
        "#loading the trained model\n",
        "pickle_in = open('Airline_satif_model.pkl','rb')\n",
        "classifier = pickle.load(pickle_in)\n",
        "\n",
        "@st.cache()\n",
        "#defining the function which will make the prediction using the data imputed\n",
        "def prediction(Inflight_Wifi_Service,Ease_Of_Online_Booking,Food_And_Drink,Online_Boarding,Seat_Comfort,Inflight_Entertainment,On_board_Service,Leg_Room,Baggage_Handling,Checkin_Service,Inflight_Service,Cleanliness,Customer_Type_Returning_Customer,Type_Of_Travel_Personal_Travel,Class_Economy):\n",
        "  #Making predictions\n",
        "  prediction = classifier.predict([[Inflight_Wifi_Service,Ease_Of_Online_Booking,Food_And_Drink,Online_Boarding,Seat_Comfort,Inflight_Entertainment,On_board_Service,Leg_Room,Baggage_Handling,Checkin_Service,Inflight_Service,Cleanliness,Customer_Type_Returning_Customer,Type_Of_Travel_Personal_Travel,Class_Economy]])\n",
        "\n",
        "  if prediction == 0:\n",
        "    pred = 'Disatisfied'\n",
        "  else:\n",
        "    pred = 'Satisfied'\n",
        "  return pred\n",
        "\n",
        "#Main function to define the webpage\n",
        "def main():       \n",
        "    # front end elements of the web page \n",
        "    html_temp = \"\"\" \n",
        "    <div style =\"background-color:yellow;padding:13px\"> \n",
        "    <h1 style =\"color:black;text-align:center;\">Streamlit Loan Prediction ML App</h1> \n",
        "    </div> \n",
        "    \"\"\"\n",
        "      \n",
        "    # display the front end aspect\n",
        "    st.markdown(html_temp, unsafe_allow_html = True) \n",
        "      \n",
        "    # following lines create boxes in which user can enter data required to make prediction\n",
        "     \n",
        "    Inflight_Wifi_Service = st.selectbox('Inflight Wifi Service',(1,2,3,4,5))\n",
        "    Ease_Of_Online_Booking = st.selectbox('Ease Of Online Booking',(1,2,3,4,5))\n",
        "    Food_And_Drink = st.selectbox('Food And Drink',(1,2,3,4,5))\n",
        "    Online_Boarding  = st.selectbox('Online Boarding',(1,2,3,4,5))\n",
        "    Seat_Comfort = st.selectbox('Seat Comfort',(1,2,3,4,5))\n",
        "    Inflight_Entertainment = st.selectbox('Inflight Entertainment',(1,2,3,4,5))\n",
        "    On_board_Service = st.selectbox('On-board Service',(1,2,3,4,5))\n",
        "    Leg_Room = st.selectbox('Leg Room',(1,2,3,4,5))\n",
        "    Baggage_Handling = st.selectbox('Baggage Handling',(1,2,3,4,5))\n",
        "    Checkin_Service = st.selectbox('Checkin Service',(1,2,3,4,5))\n",
        "    Inflight_Service = st.selectbox('Inflight Service',(1,2,3,4,5))\n",
        "    Cleanliness = st.selectbox('Cleanliness',(1,2,3,4,5))\n",
        "    Customer_Type_Returning_Customer = st.selectbox('Customer Type_Returning Customer',(0,1))\n",
        "    Type_Of_Travel_Personal_Travel = st.selectbox('Type Of Travel_Personal Travel',(0,1))\n",
        "    Class_Economy = st.selectbox('Class_Economy',(0,1))\n",
        "    \n",
        "    result =\"\"\n",
        "      \n",
        "    # when 'Predict' is clicked, make the prediction and store it \n",
        "    if st.button(\"Predict\"): \n",
        "        result = prediction(Inflight_Wifi_Service,Ease_Of_Online_Booking,Food_And_Drink,Online_Boarding,Seat_Comfort,Inflight_Entertainment,On_board_Service,Leg_Room,Baggage_Handling,Checkin_Service,Inflight_Service,Cleanliness,Customer_Type_Returning_Customer,Type_Of_Travel_Personal_Travel,Class_Economy) \n",
        "        st.success('Your client is {}'.format(result))\n",
        "        print(result)\n",
        "     \n",
        "if __name__=='__main__': \n",
        "    main()"
      ],
      "execution_count": 1,
      "outputs": [
        {
          "output_type": "stream",
          "text": [
            "Writing app.py\n"
          ],
          "name": "stdout"
        }
      ]
    }
  ]
}