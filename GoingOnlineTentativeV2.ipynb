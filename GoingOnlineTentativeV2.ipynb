{
  "nbformat": 4,
  "nbformat_minor": 0,
  "metadata": {
    "colab": {
      "name": "GoingOnlineTentativeV2.ipynb",
      "provenance": [],
      "collapsed_sections": [
        "Buq_n4Y_ceez"
      ],
      "authorship_tag": "ABX9TyMlTXPii3RcChSstHk2qRs3",
      "include_colab_link": true
    },
    "kernelspec": {
      "name": "python3",
      "display_name": "Python 3"
    },
    "language_info": {
      "name": "python"
    }
  },
  "cells": [
    {
      "cell_type": "markdown",
      "metadata": {
        "id": "view-in-github",
        "colab_type": "text"
      },
      "source": [
        "<a href=\"https://colab.research.google.com/github/federicoding/Airline_Satisfaction/blob/main/GoingOnlineTentativeV2.ipynb\" target=\"_parent\"><img src=\"https://colab.research.google.com/assets/colab-badge.svg\" alt=\"Open In Colab\"/></a>"
      ]
    },
    {
      "cell_type": "markdown",
      "metadata": {
        "id": "z-sUEW-wbVGa"
      },
      "source": [
        "On va essayer de refaire le code de l'App de manière plus propre, et avec un @st.cache() pour le run.\n",
        "On se tentera même un pickle!"
      ]
    },
    {
      "cell_type": "markdown",
      "metadata": {
        "id": "Buq_n4Y_ceez"
      },
      "source": [
        "#Apparté pour pickle le modèle"
      ]
    },
    {
      "cell_type": "markdown",
      "metadata": {
        "id": "zRitUAjJdQvv"
      },
      "source": [
        "Je fais ça pour travailler avec des noms de variable corrects, sans espaces."
      ]
    },
    {
      "cell_type": "code",
      "metadata": {
        "colab": {
          "base_uri": "https://localhost:8080/"
        },
        "id": "stJMpy11chDn",
        "outputId": "cdcd7c46-eaf7-4f68-eac0-c18329584c91"
      },
      "source": [
        "import numpy as np\n",
        "import pandas as pd\n",
        "\n",
        "from sklearn.ensemble import RandomForestClassifier\n",
        "\n",
        "df = pd.read_csv(filepath_or_buffer='https://raw.githubusercontent.com/federicoding/Airline_Satisfaction/main/Airline_Dataset.csv',sep=';')\n",
        "\n",
        "df['Customer Type'] = df['Customer Type'].map({'Loyal Customer':'Returning Customer', 'disloyal Customer':'First-time Customer'})\n",
        "\n",
        "df = df.dropna(axis=0)\n",
        "\n",
        "df['Departure Delay in Minutes'] = df['Departure Delay in Minutes'].astype('float')\n",
        "\n",
        "df = df.rename(columns={'Leg room service':'Leg room'})\n",
        "\n",
        "from string import capwords\n",
        "df.columns = [capwords(i) for i in df.columns]\n",
        "df = df.rename(columns={'Departure/arrival Time Convenient':'Departure/Arrival Time Convenience'})\n",
        "\n",
        "df = df[(df['Inflight Wifi Service']!=0)&(df['Departure/Arrival Time Convenience']!=0)&(df['Ease Of Online Booking']!=0)&(df['Gate Location'])&(df['Food And Drink']!=0)&(df['Online Boarding']!=0)&(df['Seat Comfort']!=0)&(df['Inflight Entertainment']!=0)&(df['On-board Service']!=0)&(df['Leg Room']!=0)&(df['Baggage Handling']!=0)&(df['Checkin Service']!=0)&(df['Inflight Service']!=0)&(df['Cleanliness']!=0)]\n",
        "\n",
        "df['Satisfaction'] = df['Satisfaction'].map({'satisfied':1,'neutral or dissatisfied':0})\n",
        "df = df.reset_index()\n",
        "df = df.drop('index',axis=1)\n",
        "df['Total Delay'] = df['Departure Delay In Minutes'] + df['Arrival Delay In Minutes']\n",
        "\n",
        "DF = df.copy()\n",
        "df = df.drop('Id',axis=1)\n",
        "\n",
        "df = df.reindex(columns=['Satisfaction']+list(df.columns)[:-2]+['Total Delay'])\n",
        "df = df.drop(['Departure Delay In Minutes','Arrival Delay In Minutes'],axis=1)\n",
        "\n",
        "df['Class'] = df['Class'].map({'Eco':'Economy','Eco Plus':'Economy','Business':'Business'})\n",
        "\n",
        "df1 = pd.get_dummies(df,columns=['Gender','Customer Type','Type Of Travel','Class'],drop_first=True)\n",
        "\n",
        "df1 = df1.drop(['Total Delay','Flight Distance','Age','Gate Location','Departure/Arrival Time Convenience',\n",
        "                'Gender_Male'],axis=1)\n",
        "\n",
        "df1.rename(columns= {'Inflight Wifi Service': 'Inflight_Wifi_Service',\n",
        "                     'Ease Of Online Booking': 'Ease_Of_Online_Booking',\n",
        "                     'Food And Drink': 'Food_And_Drink',\n",
        "                     'Online Boarding': 'Online_Boarding',\n",
        "                     'Seat Comfort': 'Seat_Comfort',\n",
        "                     'Inflight Entertainment': 'Inflight_Entertainment',\n",
        "                     'On-board Service': 'On_board_Service',\n",
        "                     'Leg Room': 'Leg_Room',\n",
        "                     'Baggage Handling': 'Baggage_Handling',\n",
        "                     'Checkin Service': 'Checkin_Service',\n",
        "                     'Inflight Service': 'Inflight_Service',\n",
        "                     'Cleanliness': 'Cleanliness',\n",
        "                     'Customer Type_Returning Customer': 'Customer_Type_Returning_Customer',\n",
        "                     'Type Of Travel_Personal Travel': 'Type_Of_Travel_Personal_Travel',\n",
        "                     'Class_Economy': 'Class_Economy'})\n",
        "\n",
        "y = df1['Satisfaction']\n",
        "X = df1.drop('Satisfaction',axis=1)\n",
        "\n",
        "rf = RandomForestClassifier(max_depth=17, random_state=42)\n",
        "rf.fit(X,y)"
      ],
      "execution_count": 1,
      "outputs": [
        {
          "output_type": "execute_result",
          "data": {
            "text/plain": [
              "RandomForestClassifier(bootstrap=True, ccp_alpha=0.0, class_weight=None,\n",
              "                       criterion='gini', max_depth=17, max_features='auto',\n",
              "                       max_leaf_nodes=None, max_samples=None,\n",
              "                       min_impurity_decrease=0.0, min_impurity_split=None,\n",
              "                       min_samples_leaf=1, min_samples_split=2,\n",
              "                       min_weight_fraction_leaf=0.0, n_estimators=100,\n",
              "                       n_jobs=None, oob_score=False, random_state=42, verbose=0,\n",
              "                       warm_start=False)"
            ]
          },
          "metadata": {
            "tags": []
          },
          "execution_count": 1
        }
      ]
    },
    {
      "cell_type": "code",
      "metadata": {
        "id": "Czxjqqekcpw6"
      },
      "source": [
        "import pickle\n",
        "pickle_out = open('Airline_satif_model.pkl', mode ='wb')\n",
        "pickle.dump(rf, pickle_out)\n",
        "pickle_out.close()"
      ],
      "execution_count": 2,
      "outputs": []
    },
    {
      "cell_type": "markdown",
      "metadata": {
        "id": "3KmeJFGZccKS"
      },
      "source": [
        "#Vrai code"
      ]
    },
    {
      "cell_type": "code",
      "metadata": {
        "colab": {
          "base_uri": "https://localhost:8080/"
        },
        "id": "BOOokiaTbQ68",
        "outputId": "933e9f94-5e7b-4815-c0ac-354c17d08369"
      },
      "source": [
        "%%writefile app5.py\n",
        "\n",
        "import pickle\n",
        "import streamlit as st\n",
        "\n",
        "#loading the trained model\n",
        "picle_in = open('Airline_satif_model.pkl', 'rb')\n",
        "classifier = pickle.load(pickle_in)\n",
        "\n",
        "@st.cache()\n",
        "def prediction_func(Inflight_Wifi_Service,Ease_Of_Online_Booking,\n",
        "               Food_And_Drink,Online_Boarding,Seat_Comfort,\n",
        "               Inflight_Entertainment,On_board_Service,Leg_Room,\n",
        "               Baggage_Handling,Checkin_Service,Inflight_Service,\n",
        "               Cleanliness,Customer_Type_Returning_Customer,\n",
        "               Type_Of_Travel_Personal_Travel,Class_Economy):\n",
        "  #Make predictions\n",
        "  prediction = classifier.predict(df)\n",
        "  prediction_proba = classifier.predict_proba(df)\n",
        "\n",
        "  return prediction, prediction_proba\n",
        "\n",
        "# On tente un truc un peu joli\n",
        "\n",
        "def main():\n",
        "  #front end elements\n",
        "  html_temp = \"\"\"\n",
        "  <div style =\"background-color:yellow;padding:13px\"> \n",
        "  <h1 style =\"color:black;text-align:center;\">Streamlit Airline Satisfaction Prediction ML App</h1> \n",
        "  </div> \n",
        "  \"\"\"\n",
        "\n",
        "  #display the front end aspect\n",
        "  st.markdown(thml_temp, unsafe_allow_thml = True)\n",
        "\n",
        "  #rajout des lignes pour selectionner le valeurs du voyageur\n",
        "  def user_input_features():\n",
        "    Inflight_Wifi_Service = st.selectbox('Inflight Wifi Service',[1,2,3,4,5])\n",
        "    Ease_Of_Online_Booking = st.selectbox('Ease Of Online Booking',[1,2,3,4,5])\n",
        "    Food_And_Drink = st.selectbox('Food And Drink',[1,2,3,4,5])\n",
        "    Online_Boarding = st.selectbox('Online Boarding',[1,2,3,4,5])\n",
        "    Seat_Comfort = st.selectbox('Seat Comfort',[1,2,3,4,5])\n",
        "    Inflight_Entertainment = st.selectbox('Inflight Entertainment',[1,2,3,4,5])\n",
        "    On_board_Service = st.selectbox('On-board Service',[1,2,3,4,5])\n",
        "    Leg_Room = st.selectbox('Leg Room',[1,2,3,4,5])\n",
        "    Baggage_Handling = st.selectbox('Baggage Handling',[1,2,3,4,5])\n",
        "    Checkin_Service = st.selectbox('Checkin Service',[1,2,3,4,5])\n",
        "    Inflight_Service = st.selectbox('Inflight Service',[1,2,3,4,5])\n",
        "    Cleanliness = st.selectbox('Cleanliness',[1,2,3,4,5])\n",
        "    Customer_Type_Returning_Customer = st.selectbox('Customer Type_Returning Customer',[0,1])\n",
        "    Type_Of_Travel_Personal_Travel = st.selectbox('Type Of Travel_Personal Travel',[0,1])\n",
        "    Class_Economy = st.selectbox('Class_Economy',[0,1])\n",
        "    data = {'Inflight Wifi Service': Inflight_Wifi_Service,\n",
        "            'Ease Of Online Booking': Ease_Of_Online_Booking,\n",
        "            'Food And Drink': Food_And_Drink,\n",
        "            'Online Boarding': Online_Boarding,\n",
        "            'Seat Comfort': Seat_Comfort,\n",
        "            'Inflight Entertainment': Inflight_Entertainment,\n",
        "            'On-board Service': On_board_Service,\n",
        "            'Leg Room': Leg_Room,\n",
        "            'Baggage Handling': Baggage_Handling,\n",
        "            'Checkin Service': Checkin_Service,\n",
        "            'Inflight Service': Inflight_Service,\n",
        "            'Cleanliness': Cleanliness,\n",
        "            'Customer Type_Returning Customer': Customer_Type_Returning_Customer,\n",
        "            'Type Of Travel_Personal Travel': Type_Of_Travel_Personal_Travel,\n",
        "            'Class_Economy': Class_Economy}\n",
        "    features = pd.DataFrame(data, index=[0])\n",
        "    return features\n",
        "\n",
        "  df = uset_input_features()\n",
        "\n",
        "  #Bouton pour lancer la prédiction et store les values...\n",
        "\n",
        "  if st.button('Predict'):\n",
        "    result = prediction_func(df)\n",
        "    st.success('Your Passenger prediction is {0}, with probability {1}'.format(result[0],result[1]))\n",
        "\n",
        "if __name__=='__main__':\n",
        "  main()\n"
      ],
      "execution_count": 3,
      "outputs": [
        {
          "output_type": "stream",
          "text": [
            "Writing app5.py\n"
          ],
          "name": "stdout"
        }
      ]
    }
  ]
}